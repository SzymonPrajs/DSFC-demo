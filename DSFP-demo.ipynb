{
 "cells": [
  {
   "cell_type": "code",
   "execution_count": 3,
   "metadata": {
    "collapsed": false
   },
   "outputs": [],
   "source": [
    "from dsfp.data import get_photometry"
   ]
  },
  {
   "cell_type": "code",
   "execution_count": 4,
   "metadata": {
    "collapsed": true
   },
   "outputs": [],
   "source": [
    "data = get_photometry(N=10)"
   ]
  },
  {
   "cell_type": "code",
   "execution_count": 5,
   "metadata": {
    "collapsed": false
   },
   "outputs": [
    {
     "data": {
      "text/html": [
       "&lt;Table length=10&gt;\n",
       "<table id=\"table4518343824\" class=\"table-striped table-bordered table-condensed\">\n",
       "<thead><tr><th>psfMag_r</th><th>fiberMag_r</th><th>fiber2Mag_r</th><th>petroMag_r</th><th>deVMag_r</th><th>expMag_r</th><th>modelMag_r</th><th>cModelMag_r</th><th>class</th></tr></thead>\n",
       "<thead><tr><th>float64</th><th>float64</th><th>float64</th><th>float64</th><th>float64</th><th>float64</th><th>float64</th><th>float64</th><th>str6</th></tr></thead>\n",
       "<tr><td>18.50319</td><td>18.65275</td><td>19.33509</td><td>17.54539</td><td>17.31526</td><td>17.58132</td><td>17.58132</td><td>17.48715</td><td>GALAXY</td></tr>\n",
       "<tr><td>19.02659</td><td>19.32441</td><td>19.80892</td><td>19.05827</td><td>19.03468</td><td>19.03111</td><td>19.03111</td><td>19.03111</td><td>STAR</td></tr>\n",
       "<tr><td>19.8809</td><td>19.77895</td><td>20.46623</td><td>19.3534</td><td>19.1864</td><td>19.35493</td><td>19.35493</td><td>19.24559</td><td>GALAXY</td></tr>\n",
       "<tr><td>22.03563</td><td>22.06141</td><td>22.68416</td><td>21.51795</td><td>21.03554</td><td>21.31751</td><td>21.31751</td><td>21.31751</td><td>GALAXY</td></tr>\n",
       "<tr><td>21.56726</td><td>21.57312</td><td>22.22178</td><td>20.4583</td><td>19.93309</td><td>20.39825</td><td>20.39819</td><td>20.20402</td><td>GALAXY</td></tr>\n",
       "<tr><td>18.66813</td><td>18.75309</td><td>19.36792</td><td>17.83372</td><td>17.69468</td><td>17.89914</td><td>17.6947</td><td>17.75269</td><td>GALAXY</td></tr>\n",
       "<tr><td>20.19068</td><td>20.33947</td><td>20.93226</td><td>19.77666</td><td>19.63458</td><td>19.74873</td><td>19.74872</td><td>19.74873</td><td>GALAXY</td></tr>\n",
       "<tr><td>19.41619</td><td>19.38348</td><td>20.15486</td><td>17.67687</td><td>17.16815</td><td>17.63962</td><td>17.63962</td><td>17.63962</td><td>GALAXY</td></tr>\n",
       "<tr><td>18.88878</td><td>18.91179</td><td>19.57415</td><td>17.3317</td><td>17.02896</td><td>17.43539</td><td>17.02898</td><td>17.06256</td><td>GALAXY</td></tr>\n",
       "<tr><td>17.73892</td><td>17.8784</td><td>18.4601</td><td>16.81384</td><td>16.80538</td><td>17.07542</td><td>16.80538</td><td>16.80538</td><td>GALAXY</td></tr>\n",
       "</table>"
      ],
      "text/plain": [
       "<Table length=10>\n",
       "psfMag_r fiberMag_r fiber2Mag_r petroMag_r ... modelMag_r cModelMag_r class \n",
       "float64   float64     float64    float64   ...  float64     float64    str6 \n",
       "-------- ---------- ----------- ---------- ... ---------- ----------- ------\n",
       "18.50319   18.65275    19.33509   17.54539 ...   17.58132    17.48715 GALAXY\n",
       "19.02659   19.32441    19.80892   19.05827 ...   19.03111    19.03111   STAR\n",
       " 19.8809   19.77895    20.46623    19.3534 ...   19.35493    19.24559 GALAXY\n",
       "22.03563   22.06141    22.68416   21.51795 ...   21.31751    21.31751 GALAXY\n",
       "21.56726   21.57312    22.22178    20.4583 ...   20.39819    20.20402 GALAXY\n",
       "18.66813   18.75309    19.36792   17.83372 ...    17.6947    17.75269 GALAXY\n",
       "20.19068   20.33947    20.93226   19.77666 ...   19.74872    19.74873 GALAXY\n",
       "19.41619   19.38348    20.15486   17.67687 ...   17.63962    17.63962 GALAXY\n",
       "18.88878   18.91179    19.57415    17.3317 ...   17.02898    17.06256 GALAXY\n",
       "17.73892    17.8784     18.4601   16.81384 ...   16.80538    16.80538 GALAXY"
      ]
     },
     "execution_count": 5,
     "metadata": {},
     "output_type": "execute_result"
    }
   ],
   "source": [
    "data"
   ]
  },
  {
   "cell_type": "code",
   "execution_count": null,
   "metadata": {
    "collapsed": true
   },
   "outputs": [],
   "source": []
  }
 ],
 "metadata": {
  "kernelspec": {
   "display_name": "Python [Root]",
   "language": "python",
   "name": "Python [Root]"
  },
  "language_info": {
   "codemirror_mode": {
    "name": "ipython",
    "version": 2
   },
   "file_extension": ".py",
   "mimetype": "text/x-python",
   "name": "python",
   "nbconvert_exporter": "python",
   "pygments_lexer": "ipython2",
   "version": "2.7.12"
  }
 },
 "nbformat": 4,
 "nbformat_minor": 0
}
